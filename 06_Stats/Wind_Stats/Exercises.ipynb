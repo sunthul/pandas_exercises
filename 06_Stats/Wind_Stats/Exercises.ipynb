{
  "cells": [
    {
      "cell_type": "markdown",
      "metadata": {
        "id": "IK8z7WPX4djS"
      },
      "source": [
        "# Wind Statistics"
      ]
    },
    {
      "cell_type": "markdown",
      "metadata": {
        "id": "lkqYDNmg4djW"
      },
      "source": [
        "### Introduction:\n",
        "\n",
        "The data have been modified to contain some missing values, identified by NaN.  \n",
        "Using pandas should make this exercise\n",
        "easier, in particular for the bonus question.\n",
        "\n",
        "You should be able to perform all of these operations without using\n",
        "a for loop or other looping construct.\n",
        "\n",
        "\n",
        "1. The data in 'wind.data' has the following format:"
      ]
    },
    {
      "cell_type": "code",
      "execution_count": 32,
      "metadata": {
        "id": "D8EPfEFI4dje",
        "outputId": "a755e07a-093b-405b-a725-425a0fc6938a",
        "colab": {
          "base_uri": "https://localhost:8080/",
          "height": 53
        }
      },
      "outputs": [
        {
          "output_type": "execute_result",
          "data": {
            "text/plain": [
              "'\\nYr Mo Dy   RPT   VAL   ROS   KIL   SHA   BIR   DUB   CLA   MUL   CLO   BEL   MAL\\n61  1  1 15.04 14.96 13.17  9.29   NaN  9.87 13.67 10.25 10.83 12.58 18.50 15.04\\n61  1  2 14.71   NaN 10.83  6.50 12.62  7.67 11.50 10.04  9.79  9.67 17.54 13.83\\n61  1  3 18.50 16.88 12.33 10.13 11.17  6.17 11.25   NaN  8.50  7.67 12.75 12.71\\n'"
            ],
            "application/vnd.google.colaboratory.intrinsic+json": {
              "type": "string"
            }
          },
          "metadata": {},
          "execution_count": 32
        }
      ],
      "source": [
        "\"\"\"\n",
        "Yr Mo Dy   RPT   VAL   ROS   KIL   SHA   BIR   DUB   CLA   MUL   CLO   BEL   MAL\n",
        "61  1  1 15.04 14.96 13.17  9.29   NaN  9.87 13.67 10.25 10.83 12.58 18.50 15.04\n",
        "61  1  2 14.71   NaN 10.83  6.50 12.62  7.67 11.50 10.04  9.79  9.67 17.54 13.83\n",
        "61  1  3 18.50 16.88 12.33 10.13 11.17  6.17 11.25   NaN  8.50  7.67 12.75 12.71\n",
        "\"\"\""
      ]
    },
    {
      "cell_type": "markdown",
      "metadata": {
        "id": "TKw14QOX4djk"
      },
      "source": [
        "   The first three columns are year, month and day.  The\n",
        "   remaining 12 columns are average windspeeds in knots at 12\n",
        "   locations in Ireland on that day.   \n",
        "\n",
        "   More information about the dataset go [here](wind.desc)."
      ]
    },
    {
      "cell_type": "markdown",
      "metadata": {
        "collapsed": false,
        "id": "OERxwhNI4djm"
      },
      "source": [
        "### Step 1. Import the necessary libraries"
      ]
    },
    {
      "cell_type": "code",
      "execution_count": 33,
      "metadata": {
        "id": "ZjeLN7YH4djo"
      },
      "outputs": [],
      "source": [
        "import pandas as pd\n",
        "import numpy as np"
      ]
    },
    {
      "cell_type": "markdown",
      "metadata": {
        "id": "yzWQnaV24djt"
      },
      "source": [
        "### Step 2. Import the dataset from this [address](https://raw.githubusercontent.com/guipsamora/pandas_exercises/master/06_Stats/Wind_Stats/wind.data)"
      ]
    },
    {
      "cell_type": "markdown",
      "metadata": {
        "id": "Gu985iBl4djy"
      },
      "source": [
        "### Step 3. Assign it to a variable called data and replace the first 3 columns by a proper datetime index."
      ]
    },
    {
      "cell_type": "code",
      "source": [
        "def parse_year(year):\n",
        "    return '19' + year if year < '69' else '20' + year"
      ],
      "metadata": {
        "id": "i8MxBkvQ8AxK"
      },
      "execution_count": 34,
      "outputs": []
    },
    {
      "cell_type": "code",
      "execution_count": 35,
      "metadata": {
        "id": "Zv3oA7-X4djz",
        "outputId": "05626db4-cbde-4f11-af09-7d918d788cf1",
        "colab": {
          "base_uri": "https://localhost:8080/",
          "height": 479
        }
      },
      "outputs": [
        {
          "output_type": "stream",
          "name": "stderr",
          "text": [
            "<ipython-input-35-2ea3386e7ac6>:2: FutureWarning: The argument 'date_parser' is deprecated and will be removed in a future version. Please use 'date_format' instead, or read your data in as 'object' dtype and then call 'to_datetime'.\n",
            "  data = pd.read_csv(url,\n"
          ]
        },
        {
          "output_type": "execute_result",
          "data": {
            "text/plain": [
              "       Yr_Mo_Dy    RPT    VAL    ROS    KIL    SHA    BIR    DUB    CLA  \\\n",
              "0    1961-01-01  15.04  14.96  13.17   9.29    NaN   9.87  13.67  10.25   \n",
              "1    1961-01-02  14.71    NaN  10.83   6.50  12.62   7.67  11.50  10.04   \n",
              "2    1961-01-03  18.50  16.88  12.33  10.13  11.17   6.17  11.25    NaN   \n",
              "3    1961-01-04  10.58   6.63  11.75   4.58   4.54   2.88   8.63   1.79   \n",
              "4    1961-01-05  13.33  13.25  11.42   6.17  10.71   8.21  11.92   6.54   \n",
              "...         ...    ...    ...    ...    ...    ...    ...    ...    ...   \n",
              "6569 2078-12-27  17.58  16.96  17.62   8.08  13.21  11.67  14.46  15.59   \n",
              "6570 2078-12-28  13.21   5.46  13.46   5.00   8.12   9.42  14.33  16.25   \n",
              "6571 2078-12-29  14.00  10.29  14.42   8.71   9.71  10.54  19.17  12.46   \n",
              "6572 2078-12-30  18.50  14.04  21.29   9.13  12.75   9.71  18.08  12.87   \n",
              "6573 2078-12-31  20.33  17.41  27.29   9.59  12.08  10.13  19.25  11.63   \n",
              "\n",
              "        MUL    CLO    BEL    MAL  \n",
              "0     10.83  12.58  18.50  15.04  \n",
              "1      9.79   9.67  17.54  13.83  \n",
              "2      8.50   7.67  12.75  12.71  \n",
              "3      5.83   5.88   5.46  10.88  \n",
              "4     10.92  10.34  12.92  11.83  \n",
              "...     ...    ...    ...    ...  \n",
              "6569  14.04  14.00  17.21  40.08  \n",
              "6570  15.25  18.05  21.79  41.46  \n",
              "6571  14.50  16.42  18.88  29.58  \n",
              "6572  12.46  12.12  14.67  28.79  \n",
              "6573  11.58  11.38  12.08  22.08  \n",
              "\n",
              "[6574 rows x 13 columns]"
            ],
            "text/html": [
              "\n",
              "  <div id=\"df-e36c11f9-bc3f-452e-bc05-383c4751146a\" class=\"colab-df-container\">\n",
              "    <div>\n",
              "<style scoped>\n",
              "    .dataframe tbody tr th:only-of-type {\n",
              "        vertical-align: middle;\n",
              "    }\n",
              "\n",
              "    .dataframe tbody tr th {\n",
              "        vertical-align: top;\n",
              "    }\n",
              "\n",
              "    .dataframe thead th {\n",
              "        text-align: right;\n",
              "    }\n",
              "</style>\n",
              "<table border=\"1\" class=\"dataframe\">\n",
              "  <thead>\n",
              "    <tr style=\"text-align: right;\">\n",
              "      <th></th>\n",
              "      <th>Yr_Mo_Dy</th>\n",
              "      <th>RPT</th>\n",
              "      <th>VAL</th>\n",
              "      <th>ROS</th>\n",
              "      <th>KIL</th>\n",
              "      <th>SHA</th>\n",
              "      <th>BIR</th>\n",
              "      <th>DUB</th>\n",
              "      <th>CLA</th>\n",
              "      <th>MUL</th>\n",
              "      <th>CLO</th>\n",
              "      <th>BEL</th>\n",
              "      <th>MAL</th>\n",
              "    </tr>\n",
              "  </thead>\n",
              "  <tbody>\n",
              "    <tr>\n",
              "      <th>0</th>\n",
              "      <td>1961-01-01</td>\n",
              "      <td>15.04</td>\n",
              "      <td>14.96</td>\n",
              "      <td>13.17</td>\n",
              "      <td>9.29</td>\n",
              "      <td>NaN</td>\n",
              "      <td>9.87</td>\n",
              "      <td>13.67</td>\n",
              "      <td>10.25</td>\n",
              "      <td>10.83</td>\n",
              "      <td>12.58</td>\n",
              "      <td>18.50</td>\n",
              "      <td>15.04</td>\n",
              "    </tr>\n",
              "    <tr>\n",
              "      <th>1</th>\n",
              "      <td>1961-01-02</td>\n",
              "      <td>14.71</td>\n",
              "      <td>NaN</td>\n",
              "      <td>10.83</td>\n",
              "      <td>6.50</td>\n",
              "      <td>12.62</td>\n",
              "      <td>7.67</td>\n",
              "      <td>11.50</td>\n",
              "      <td>10.04</td>\n",
              "      <td>9.79</td>\n",
              "      <td>9.67</td>\n",
              "      <td>17.54</td>\n",
              "      <td>13.83</td>\n",
              "    </tr>\n",
              "    <tr>\n",
              "      <th>2</th>\n",
              "      <td>1961-01-03</td>\n",
              "      <td>18.50</td>\n",
              "      <td>16.88</td>\n",
              "      <td>12.33</td>\n",
              "      <td>10.13</td>\n",
              "      <td>11.17</td>\n",
              "      <td>6.17</td>\n",
              "      <td>11.25</td>\n",
              "      <td>NaN</td>\n",
              "      <td>8.50</td>\n",
              "      <td>7.67</td>\n",
              "      <td>12.75</td>\n",
              "      <td>12.71</td>\n",
              "    </tr>\n",
              "    <tr>\n",
              "      <th>3</th>\n",
              "      <td>1961-01-04</td>\n",
              "      <td>10.58</td>\n",
              "      <td>6.63</td>\n",
              "      <td>11.75</td>\n",
              "      <td>4.58</td>\n",
              "      <td>4.54</td>\n",
              "      <td>2.88</td>\n",
              "      <td>8.63</td>\n",
              "      <td>1.79</td>\n",
              "      <td>5.83</td>\n",
              "      <td>5.88</td>\n",
              "      <td>5.46</td>\n",
              "      <td>10.88</td>\n",
              "    </tr>\n",
              "    <tr>\n",
              "      <th>4</th>\n",
              "      <td>1961-01-05</td>\n",
              "      <td>13.33</td>\n",
              "      <td>13.25</td>\n",
              "      <td>11.42</td>\n",
              "      <td>6.17</td>\n",
              "      <td>10.71</td>\n",
              "      <td>8.21</td>\n",
              "      <td>11.92</td>\n",
              "      <td>6.54</td>\n",
              "      <td>10.92</td>\n",
              "      <td>10.34</td>\n",
              "      <td>12.92</td>\n",
              "      <td>11.83</td>\n",
              "    </tr>\n",
              "    <tr>\n",
              "      <th>...</th>\n",
              "      <td>...</td>\n",
              "      <td>...</td>\n",
              "      <td>...</td>\n",
              "      <td>...</td>\n",
              "      <td>...</td>\n",
              "      <td>...</td>\n",
              "      <td>...</td>\n",
              "      <td>...</td>\n",
              "      <td>...</td>\n",
              "      <td>...</td>\n",
              "      <td>...</td>\n",
              "      <td>...</td>\n",
              "      <td>...</td>\n",
              "    </tr>\n",
              "    <tr>\n",
              "      <th>6569</th>\n",
              "      <td>2078-12-27</td>\n",
              "      <td>17.58</td>\n",
              "      <td>16.96</td>\n",
              "      <td>17.62</td>\n",
              "      <td>8.08</td>\n",
              "      <td>13.21</td>\n",
              "      <td>11.67</td>\n",
              "      <td>14.46</td>\n",
              "      <td>15.59</td>\n",
              "      <td>14.04</td>\n",
              "      <td>14.00</td>\n",
              "      <td>17.21</td>\n",
              "      <td>40.08</td>\n",
              "    </tr>\n",
              "    <tr>\n",
              "      <th>6570</th>\n",
              "      <td>2078-12-28</td>\n",
              "      <td>13.21</td>\n",
              "      <td>5.46</td>\n",
              "      <td>13.46</td>\n",
              "      <td>5.00</td>\n",
              "      <td>8.12</td>\n",
              "      <td>9.42</td>\n",
              "      <td>14.33</td>\n",
              "      <td>16.25</td>\n",
              "      <td>15.25</td>\n",
              "      <td>18.05</td>\n",
              "      <td>21.79</td>\n",
              "      <td>41.46</td>\n",
              "    </tr>\n",
              "    <tr>\n",
              "      <th>6571</th>\n",
              "      <td>2078-12-29</td>\n",
              "      <td>14.00</td>\n",
              "      <td>10.29</td>\n",
              "      <td>14.42</td>\n",
              "      <td>8.71</td>\n",
              "      <td>9.71</td>\n",
              "      <td>10.54</td>\n",
              "      <td>19.17</td>\n",
              "      <td>12.46</td>\n",
              "      <td>14.50</td>\n",
              "      <td>16.42</td>\n",
              "      <td>18.88</td>\n",
              "      <td>29.58</td>\n",
              "    </tr>\n",
              "    <tr>\n",
              "      <th>6572</th>\n",
              "      <td>2078-12-30</td>\n",
              "      <td>18.50</td>\n",
              "      <td>14.04</td>\n",
              "      <td>21.29</td>\n",
              "      <td>9.13</td>\n",
              "      <td>12.75</td>\n",
              "      <td>9.71</td>\n",
              "      <td>18.08</td>\n",
              "      <td>12.87</td>\n",
              "      <td>12.46</td>\n",
              "      <td>12.12</td>\n",
              "      <td>14.67</td>\n",
              "      <td>28.79</td>\n",
              "    </tr>\n",
              "    <tr>\n",
              "      <th>6573</th>\n",
              "      <td>2078-12-31</td>\n",
              "      <td>20.33</td>\n",
              "      <td>17.41</td>\n",
              "      <td>27.29</td>\n",
              "      <td>9.59</td>\n",
              "      <td>12.08</td>\n",
              "      <td>10.13</td>\n",
              "      <td>19.25</td>\n",
              "      <td>11.63</td>\n",
              "      <td>11.58</td>\n",
              "      <td>11.38</td>\n",
              "      <td>12.08</td>\n",
              "      <td>22.08</td>\n",
              "    </tr>\n",
              "  </tbody>\n",
              "</table>\n",
              "<p>6574 rows × 13 columns</p>\n",
              "</div>\n",
              "    <div class=\"colab-df-buttons\">\n",
              "\n",
              "  <div class=\"colab-df-container\">\n",
              "    <button class=\"colab-df-convert\" onclick=\"convertToInteractive('df-e36c11f9-bc3f-452e-bc05-383c4751146a')\"\n",
              "            title=\"Convert this dataframe to an interactive table.\"\n",
              "            style=\"display:none;\">\n",
              "\n",
              "  <svg xmlns=\"http://www.w3.org/2000/svg\" height=\"24px\" viewBox=\"0 -960 960 960\">\n",
              "    <path d=\"M120-120v-720h720v720H120Zm60-500h600v-160H180v160Zm220 220h160v-160H400v160Zm0 220h160v-160H400v160ZM180-400h160v-160H180v160Zm440 0h160v-160H620v160ZM180-180h160v-160H180v160Zm440 0h160v-160H620v160Z\"/>\n",
              "  </svg>\n",
              "    </button>\n",
              "\n",
              "  <style>\n",
              "    .colab-df-container {\n",
              "      display:flex;\n",
              "      gap: 12px;\n",
              "    }\n",
              "\n",
              "    .colab-df-convert {\n",
              "      background-color: #E8F0FE;\n",
              "      border: none;\n",
              "      border-radius: 50%;\n",
              "      cursor: pointer;\n",
              "      display: none;\n",
              "      fill: #1967D2;\n",
              "      height: 32px;\n",
              "      padding: 0 0 0 0;\n",
              "      width: 32px;\n",
              "    }\n",
              "\n",
              "    .colab-df-convert:hover {\n",
              "      background-color: #E2EBFA;\n",
              "      box-shadow: 0px 1px 2px rgba(60, 64, 67, 0.3), 0px 1px 3px 1px rgba(60, 64, 67, 0.15);\n",
              "      fill: #174EA6;\n",
              "    }\n",
              "\n",
              "    .colab-df-buttons div {\n",
              "      margin-bottom: 4px;\n",
              "    }\n",
              "\n",
              "    [theme=dark] .colab-df-convert {\n",
              "      background-color: #3B4455;\n",
              "      fill: #D2E3FC;\n",
              "    }\n",
              "\n",
              "    [theme=dark] .colab-df-convert:hover {\n",
              "      background-color: #434B5C;\n",
              "      box-shadow: 0px 1px 3px 1px rgba(0, 0, 0, 0.15);\n",
              "      filter: drop-shadow(0px 1px 2px rgba(0, 0, 0, 0.3));\n",
              "      fill: #FFFFFF;\n",
              "    }\n",
              "  </style>\n",
              "\n",
              "    <script>\n",
              "      const buttonEl =\n",
              "        document.querySelector('#df-e36c11f9-bc3f-452e-bc05-383c4751146a button.colab-df-convert');\n",
              "      buttonEl.style.display =\n",
              "        google.colab.kernel.accessAllowed ? 'block' : 'none';\n",
              "\n",
              "      async function convertToInteractive(key) {\n",
              "        const element = document.querySelector('#df-e36c11f9-bc3f-452e-bc05-383c4751146a');\n",
              "        const dataTable =\n",
              "          await google.colab.kernel.invokeFunction('convertToInteractive',\n",
              "                                                    [key], {});\n",
              "        if (!dataTable) return;\n",
              "\n",
              "        const docLinkHtml = 'Like what you see? Visit the ' +\n",
              "          '<a target=\"_blank\" href=https://colab.research.google.com/notebooks/data_table.ipynb>data table notebook</a>'\n",
              "          + ' to learn more about interactive tables.';\n",
              "        element.innerHTML = '';\n",
              "        dataTable['output_type'] = 'display_data';\n",
              "        await google.colab.output.renderOutput(dataTable, element);\n",
              "        const docLink = document.createElement('div');\n",
              "        docLink.innerHTML = docLinkHtml;\n",
              "        element.appendChild(docLink);\n",
              "      }\n",
              "    </script>\n",
              "  </div>\n",
              "\n",
              "\n",
              "<div id=\"df-f38d9e1b-b497-4ab9-a486-39e1b77f6718\">\n",
              "  <button class=\"colab-df-quickchart\" onclick=\"quickchart('df-f38d9e1b-b497-4ab9-a486-39e1b77f6718')\"\n",
              "            title=\"Suggest charts\"\n",
              "            style=\"display:none;\">\n",
              "\n",
              "<svg xmlns=\"http://www.w3.org/2000/svg\" height=\"24px\"viewBox=\"0 0 24 24\"\n",
              "     width=\"24px\">\n",
              "    <g>\n",
              "        <path d=\"M19 3H5c-1.1 0-2 .9-2 2v14c0 1.1.9 2 2 2h14c1.1 0 2-.9 2-2V5c0-1.1-.9-2-2-2zM9 17H7v-7h2v7zm4 0h-2V7h2v10zm4 0h-2v-4h2v4z\"/>\n",
              "    </g>\n",
              "</svg>\n",
              "  </button>\n",
              "\n",
              "<style>\n",
              "  .colab-df-quickchart {\n",
              "      --bg-color: #E8F0FE;\n",
              "      --fill-color: #1967D2;\n",
              "      --hover-bg-color: #E2EBFA;\n",
              "      --hover-fill-color: #174EA6;\n",
              "      --disabled-fill-color: #AAA;\n",
              "      --disabled-bg-color: #DDD;\n",
              "  }\n",
              "\n",
              "  [theme=dark] .colab-df-quickchart {\n",
              "      --bg-color: #3B4455;\n",
              "      --fill-color: #D2E3FC;\n",
              "      --hover-bg-color: #434B5C;\n",
              "      --hover-fill-color: #FFFFFF;\n",
              "      --disabled-bg-color: #3B4455;\n",
              "      --disabled-fill-color: #666;\n",
              "  }\n",
              "\n",
              "  .colab-df-quickchart {\n",
              "    background-color: var(--bg-color);\n",
              "    border: none;\n",
              "    border-radius: 50%;\n",
              "    cursor: pointer;\n",
              "    display: none;\n",
              "    fill: var(--fill-color);\n",
              "    height: 32px;\n",
              "    padding: 0;\n",
              "    width: 32px;\n",
              "  }\n",
              "\n",
              "  .colab-df-quickchart:hover {\n",
              "    background-color: var(--hover-bg-color);\n",
              "    box-shadow: 0 1px 2px rgba(60, 64, 67, 0.3), 0 1px 3px 1px rgba(60, 64, 67, 0.15);\n",
              "    fill: var(--button-hover-fill-color);\n",
              "  }\n",
              "\n",
              "  .colab-df-quickchart-complete:disabled,\n",
              "  .colab-df-quickchart-complete:disabled:hover {\n",
              "    background-color: var(--disabled-bg-color);\n",
              "    fill: var(--disabled-fill-color);\n",
              "    box-shadow: none;\n",
              "  }\n",
              "\n",
              "  .colab-df-spinner {\n",
              "    border: 2px solid var(--fill-color);\n",
              "    border-color: transparent;\n",
              "    border-bottom-color: var(--fill-color);\n",
              "    animation:\n",
              "      spin 1s steps(1) infinite;\n",
              "  }\n",
              "\n",
              "  @keyframes spin {\n",
              "    0% {\n",
              "      border-color: transparent;\n",
              "      border-bottom-color: var(--fill-color);\n",
              "      border-left-color: var(--fill-color);\n",
              "    }\n",
              "    20% {\n",
              "      border-color: transparent;\n",
              "      border-left-color: var(--fill-color);\n",
              "      border-top-color: var(--fill-color);\n",
              "    }\n",
              "    30% {\n",
              "      border-color: transparent;\n",
              "      border-left-color: var(--fill-color);\n",
              "      border-top-color: var(--fill-color);\n",
              "      border-right-color: var(--fill-color);\n",
              "    }\n",
              "    40% {\n",
              "      border-color: transparent;\n",
              "      border-right-color: var(--fill-color);\n",
              "      border-top-color: var(--fill-color);\n",
              "    }\n",
              "    60% {\n",
              "      border-color: transparent;\n",
              "      border-right-color: var(--fill-color);\n",
              "    }\n",
              "    80% {\n",
              "      border-color: transparent;\n",
              "      border-right-color: var(--fill-color);\n",
              "      border-bottom-color: var(--fill-color);\n",
              "    }\n",
              "    90% {\n",
              "      border-color: transparent;\n",
              "      border-bottom-color: var(--fill-color);\n",
              "    }\n",
              "  }\n",
              "</style>\n",
              "\n",
              "  <script>\n",
              "    async function quickchart(key) {\n",
              "      const quickchartButtonEl =\n",
              "        document.querySelector('#' + key + ' button');\n",
              "      quickchartButtonEl.disabled = true;  // To prevent multiple clicks.\n",
              "      quickchartButtonEl.classList.add('colab-df-spinner');\n",
              "      try {\n",
              "        const charts = await google.colab.kernel.invokeFunction(\n",
              "            'suggestCharts', [key], {});\n",
              "      } catch (error) {\n",
              "        console.error('Error during call to suggestCharts:', error);\n",
              "      }\n",
              "      quickchartButtonEl.classList.remove('colab-df-spinner');\n",
              "      quickchartButtonEl.classList.add('colab-df-quickchart-complete');\n",
              "    }\n",
              "    (() => {\n",
              "      let quickchartButtonEl =\n",
              "        document.querySelector('#df-f38d9e1b-b497-4ab9-a486-39e1b77f6718 button');\n",
              "      quickchartButtonEl.style.display =\n",
              "        google.colab.kernel.accessAllowed ? 'block' : 'none';\n",
              "    })();\n",
              "  </script>\n",
              "</div>\n",
              "    </div>\n",
              "  </div>\n"
            ],
            "application/vnd.google.colaboratory.intrinsic+json": {
              "type": "dataframe",
              "variable_name": "data",
              "summary": "{\n  \"name\": \"data\",\n  \"rows\": 6574,\n  \"fields\": [\n    {\n      \"column\": \"Yr_Mo_Dy\",\n      \"properties\": {\n        \"dtype\": \"date\",\n        \"min\": \"1961-01-01 00:00:00\",\n        \"max\": \"2078-12-31 00:00:00\",\n        \"num_unique_values\": 6574,\n        \"samples\": [\n          \"1962-09-04 00:00:00\",\n          \"2073-02-28 00:00:00\",\n          \"1964-11-20 00:00:00\"\n        ],\n        \"semantic_type\": \"\",\n        \"description\": \"\"\n      }\n    },\n    {\n      \"column\": \"RPT\",\n      \"properties\": {\n        \"dtype\": \"number\",\n        \"std\": 5.618412959473285,\n        \"min\": 0.67,\n        \"max\": 35.8,\n        \"num_unique_values\": 671,\n        \"samples\": [\n          1.5,\n          4.25,\n          18.29\n        ],\n        \"semantic_type\": \"\",\n        \"description\": \"\"\n      }\n    },\n    {\n      \"column\": \"VAL\",\n      \"properties\": {\n        \"dtype\": \"number\",\n        \"std\": 5.2673564715943675,\n        \"min\": 0.21,\n        \"max\": 33.37,\n        \"num_unique_values\": 607,\n        \"samples\": [\n          1.87,\n          12.62,\n          7.46\n        ],\n        \"semantic_type\": \"\",\n        \"description\": \"\"\n      }\n    },\n    {\n      \"column\": \"ROS\",\n      \"properties\": {\n        \"dtype\": \"number\",\n        \"std\": 5.00844995886674,\n        \"min\": 1.5,\n        \"max\": 33.84,\n        \"num_unique_values\": 611,\n        \"samples\": [\n          13.08,\n          19.92,\n          9.29\n        ],\n        \"semantic_type\": \"\",\n        \"description\": \"\"\n      }\n    },\n    {\n      \"column\": \"KIL\",\n      \"properties\": {\n        \"dtype\": \"number\",\n        \"std\": 3.6058112071455097,\n        \"min\": 0.0,\n        \"max\": 28.46,\n        \"num_unique_values\": 450,\n        \"samples\": [\n          13.67,\n          16.79,\n          5.66\n        ],\n        \"semantic_type\": \"\",\n        \"description\": \"\"\n      }\n    },\n    {\n      \"column\": \"SHA\",\n      \"properties\": {\n        \"dtype\": \"number\",\n        \"std\": 4.936125157203556,\n        \"min\": 0.13,\n        \"max\": 37.54,\n        \"num_unique_values\": 596,\n        \"samples\": [\n          15.21,\n          20.46,\n          37.54\n        ],\n        \"semantic_type\": \"\",\n        \"description\": \"\"\n      }\n    },\n    {\n      \"column\": \"BIR\",\n      \"properties\": {\n        \"dtype\": \"number\",\n        \"std\": 3.9686831153772095,\n        \"min\": 0.0,\n        \"max\": 26.16,\n        \"num_unique_values\": 461,\n        \"samples\": [\n          17.0,\n          7.17,\n          13.29\n        ],\n        \"semantic_type\": \"\",\n        \"description\": \"\"\n      }\n    },\n    {\n      \"column\": \"DUB\",\n      \"properties\": {\n        \"dtype\": \"number\",\n        \"std\": 4.977554606833067,\n        \"min\": 0.0,\n        \"max\": 30.37,\n        \"num_unique_values\": 580,\n        \"samples\": [\n          25.54,\n          18.0,\n          9.13\n        ],\n        \"semantic_type\": \"\",\n        \"description\": \"\"\n      }\n    },\n    {\n      \"column\": \"CLA\",\n      \"properties\": {\n        \"dtype\": \"number\",\n        \"std\": 4.499449045244691,\n        \"min\": 0.0,\n        \"max\": 31.08,\n        \"num_unique_values\": 534,\n        \"samples\": [\n          11.46,\n          8.63,\n          8.17\n        ],\n        \"semantic_type\": \"\",\n        \"description\": \"\"\n      }\n    },\n    {\n      \"column\": \"MUL\",\n      \"properties\": {\n        \"dtype\": \"number\",\n        \"std\": 4.166872499235682,\n        \"min\": 0.0,\n        \"max\": 25.88,\n        \"num_unique_values\": 503,\n        \"samples\": [\n          5.91,\n          9.54,\n          5.54\n        ],\n        \"semantic_type\": \"\",\n        \"description\": \"\"\n      }\n    },\n    {\n      \"column\": \"CLO\",\n      \"properties\": {\n        \"dtype\": \"number\",\n        \"std\": 4.5039544468791535,\n        \"min\": 0.04,\n        \"max\": 28.21,\n        \"num_unique_values\": 533,\n        \"samples\": [\n          7.96,\n          1.67,\n          4.71\n        ],\n        \"semantic_type\": \"\",\n        \"description\": \"\"\n      }\n    },\n    {\n      \"column\": \"BEL\",\n      \"properties\": {\n        \"dtype\": \"number\",\n        \"std\": 5.835037000573735,\n        \"min\": 0.13,\n        \"max\": 42.38,\n        \"num_unique_values\": 687,\n        \"samples\": [\n          14.17,\n          26.04,\n          0.58\n        ],\n        \"semantic_type\": \"\",\n        \"description\": \"\"\n      }\n    },\n    {\n      \"column\": \"MAL\",\n      \"properties\": {\n        \"dtype\": \"number\",\n        \"std\": 6.699793517366434,\n        \"min\": 0.67,\n        \"max\": 42.54,\n        \"num_unique_values\": 779,\n        \"samples\": [\n          25.96,\n          28.84,\n          30.46\n        ],\n        \"semantic_type\": \"\",\n        \"description\": \"\"\n      }\n    }\n  ]\n}"
            }
          },
          "metadata": {},
          "execution_count": 35
        }
      ],
      "source": [
        "url = r'https://raw.githubusercontent.com/guipsamora/pandas_exercises/master/06_Stats/Wind_Stats/wind.data'\n",
        "data = pd.read_csv(url,\n",
        "                   sep='\\s+',\n",
        "                   parse_dates=[[0,1,2]],\n",
        "                   date_parser=parse_year)\n",
        "data"
      ]
    },
    {
      "cell_type": "markdown",
      "metadata": {
        "id": "eUPLZNk34dj5"
      },
      "source": [
        "### Step 4. Year 2061? Do we really have data from this year? Create a function to fix it and apply it."
      ]
    },
    {
      "cell_type": "code",
      "execution_count": 35,
      "metadata": {
        "id": "L-yzSbhq4dj9"
      },
      "outputs": [],
      "source": []
    },
    {
      "cell_type": "markdown",
      "metadata": {
        "id": "DtBjXt894dj-"
      },
      "source": [
        "### Step 5. Set the right dates as the index. Pay attention at the data type, it should be datetime64[ns]."
      ]
    },
    {
      "cell_type": "code",
      "execution_count": 36,
      "metadata": {
        "id": "zzV4Q_8-4dkA",
        "outputId": "0cdcd02f-31cd-4c32-e62b-f1daf02ed598",
        "colab": {
          "base_uri": "https://localhost:8080/",
          "height": 206
        }
      },
      "outputs": [
        {
          "output_type": "execute_result",
          "data": {
            "text/plain": [
              "    Yr_Mo_Dy    RPT    VAL    ROS    KIL    SHA   BIR    DUB    CLA    MUL  \\\n",
              "0 1961-01-01  15.04  14.96  13.17   9.29    NaN  9.87  13.67  10.25  10.83   \n",
              "1 1961-01-02  14.71    NaN  10.83   6.50  12.62  7.67  11.50  10.04   9.79   \n",
              "2 1961-01-03  18.50  16.88  12.33  10.13  11.17  6.17  11.25    NaN   8.50   \n",
              "3 1961-01-04  10.58   6.63  11.75   4.58   4.54  2.88   8.63   1.79   5.83   \n",
              "4 1961-01-05  13.33  13.25  11.42   6.17  10.71  8.21  11.92   6.54  10.92   \n",
              "\n",
              "     CLO    BEL    MAL  \n",
              "0  12.58  18.50  15.04  \n",
              "1   9.67  17.54  13.83  \n",
              "2   7.67  12.75  12.71  \n",
              "3   5.88   5.46  10.88  \n",
              "4  10.34  12.92  11.83  "
            ],
            "text/html": [
              "\n",
              "  <div id=\"df-33782ae2-54bf-4699-8724-72ba3b195c04\" class=\"colab-df-container\">\n",
              "    <div>\n",
              "<style scoped>\n",
              "    .dataframe tbody tr th:only-of-type {\n",
              "        vertical-align: middle;\n",
              "    }\n",
              "\n",
              "    .dataframe tbody tr th {\n",
              "        vertical-align: top;\n",
              "    }\n",
              "\n",
              "    .dataframe thead th {\n",
              "        text-align: right;\n",
              "    }\n",
              "</style>\n",
              "<table border=\"1\" class=\"dataframe\">\n",
              "  <thead>\n",
              "    <tr style=\"text-align: right;\">\n",
              "      <th></th>\n",
              "      <th>Yr_Mo_Dy</th>\n",
              "      <th>RPT</th>\n",
              "      <th>VAL</th>\n",
              "      <th>ROS</th>\n",
              "      <th>KIL</th>\n",
              "      <th>SHA</th>\n",
              "      <th>BIR</th>\n",
              "      <th>DUB</th>\n",
              "      <th>CLA</th>\n",
              "      <th>MUL</th>\n",
              "      <th>CLO</th>\n",
              "      <th>BEL</th>\n",
              "      <th>MAL</th>\n",
              "    </tr>\n",
              "  </thead>\n",
              "  <tbody>\n",
              "    <tr>\n",
              "      <th>0</th>\n",
              "      <td>1961-01-01</td>\n",
              "      <td>15.04</td>\n",
              "      <td>14.96</td>\n",
              "      <td>13.17</td>\n",
              "      <td>9.29</td>\n",
              "      <td>NaN</td>\n",
              "      <td>9.87</td>\n",
              "      <td>13.67</td>\n",
              "      <td>10.25</td>\n",
              "      <td>10.83</td>\n",
              "      <td>12.58</td>\n",
              "      <td>18.50</td>\n",
              "      <td>15.04</td>\n",
              "    </tr>\n",
              "    <tr>\n",
              "      <th>1</th>\n",
              "      <td>1961-01-02</td>\n",
              "      <td>14.71</td>\n",
              "      <td>NaN</td>\n",
              "      <td>10.83</td>\n",
              "      <td>6.50</td>\n",
              "      <td>12.62</td>\n",
              "      <td>7.67</td>\n",
              "      <td>11.50</td>\n",
              "      <td>10.04</td>\n",
              "      <td>9.79</td>\n",
              "      <td>9.67</td>\n",
              "      <td>17.54</td>\n",
              "      <td>13.83</td>\n",
              "    </tr>\n",
              "    <tr>\n",
              "      <th>2</th>\n",
              "      <td>1961-01-03</td>\n",
              "      <td>18.50</td>\n",
              "      <td>16.88</td>\n",
              "      <td>12.33</td>\n",
              "      <td>10.13</td>\n",
              "      <td>11.17</td>\n",
              "      <td>6.17</td>\n",
              "      <td>11.25</td>\n",
              "      <td>NaN</td>\n",
              "      <td>8.50</td>\n",
              "      <td>7.67</td>\n",
              "      <td>12.75</td>\n",
              "      <td>12.71</td>\n",
              "    </tr>\n",
              "    <tr>\n",
              "      <th>3</th>\n",
              "      <td>1961-01-04</td>\n",
              "      <td>10.58</td>\n",
              "      <td>6.63</td>\n",
              "      <td>11.75</td>\n",
              "      <td>4.58</td>\n",
              "      <td>4.54</td>\n",
              "      <td>2.88</td>\n",
              "      <td>8.63</td>\n",
              "      <td>1.79</td>\n",
              "      <td>5.83</td>\n",
              "      <td>5.88</td>\n",
              "      <td>5.46</td>\n",
              "      <td>10.88</td>\n",
              "    </tr>\n",
              "    <tr>\n",
              "      <th>4</th>\n",
              "      <td>1961-01-05</td>\n",
              "      <td>13.33</td>\n",
              "      <td>13.25</td>\n",
              "      <td>11.42</td>\n",
              "      <td>6.17</td>\n",
              "      <td>10.71</td>\n",
              "      <td>8.21</td>\n",
              "      <td>11.92</td>\n",
              "      <td>6.54</td>\n",
              "      <td>10.92</td>\n",
              "      <td>10.34</td>\n",
              "      <td>12.92</td>\n",
              "      <td>11.83</td>\n",
              "    </tr>\n",
              "  </tbody>\n",
              "</table>\n",
              "</div>\n",
              "    <div class=\"colab-df-buttons\">\n",
              "\n",
              "  <div class=\"colab-df-container\">\n",
              "    <button class=\"colab-df-convert\" onclick=\"convertToInteractive('df-33782ae2-54bf-4699-8724-72ba3b195c04')\"\n",
              "            title=\"Convert this dataframe to an interactive table.\"\n",
              "            style=\"display:none;\">\n",
              "\n",
              "  <svg xmlns=\"http://www.w3.org/2000/svg\" height=\"24px\" viewBox=\"0 -960 960 960\">\n",
              "    <path d=\"M120-120v-720h720v720H120Zm60-500h600v-160H180v160Zm220 220h160v-160H400v160Zm0 220h160v-160H400v160ZM180-400h160v-160H180v160Zm440 0h160v-160H620v160ZM180-180h160v-160H180v160Zm440 0h160v-160H620v160Z\"/>\n",
              "  </svg>\n",
              "    </button>\n",
              "\n",
              "  <style>\n",
              "    .colab-df-container {\n",
              "      display:flex;\n",
              "      gap: 12px;\n",
              "    }\n",
              "\n",
              "    .colab-df-convert {\n",
              "      background-color: #E8F0FE;\n",
              "      border: none;\n",
              "      border-radius: 50%;\n",
              "      cursor: pointer;\n",
              "      display: none;\n",
              "      fill: #1967D2;\n",
              "      height: 32px;\n",
              "      padding: 0 0 0 0;\n",
              "      width: 32px;\n",
              "    }\n",
              "\n",
              "    .colab-df-convert:hover {\n",
              "      background-color: #E2EBFA;\n",
              "      box-shadow: 0px 1px 2px rgba(60, 64, 67, 0.3), 0px 1px 3px 1px rgba(60, 64, 67, 0.15);\n",
              "      fill: #174EA6;\n",
              "    }\n",
              "\n",
              "    .colab-df-buttons div {\n",
              "      margin-bottom: 4px;\n",
              "    }\n",
              "\n",
              "    [theme=dark] .colab-df-convert {\n",
              "      background-color: #3B4455;\n",
              "      fill: #D2E3FC;\n",
              "    }\n",
              "\n",
              "    [theme=dark] .colab-df-convert:hover {\n",
              "      background-color: #434B5C;\n",
              "      box-shadow: 0px 1px 3px 1px rgba(0, 0, 0, 0.15);\n",
              "      filter: drop-shadow(0px 1px 2px rgba(0, 0, 0, 0.3));\n",
              "      fill: #FFFFFF;\n",
              "    }\n",
              "  </style>\n",
              "\n",
              "    <script>\n",
              "      const buttonEl =\n",
              "        document.querySelector('#df-33782ae2-54bf-4699-8724-72ba3b195c04 button.colab-df-convert');\n",
              "      buttonEl.style.display =\n",
              "        google.colab.kernel.accessAllowed ? 'block' : 'none';\n",
              "\n",
              "      async function convertToInteractive(key) {\n",
              "        const element = document.querySelector('#df-33782ae2-54bf-4699-8724-72ba3b195c04');\n",
              "        const dataTable =\n",
              "          await google.colab.kernel.invokeFunction('convertToInteractive',\n",
              "                                                    [key], {});\n",
              "        if (!dataTable) return;\n",
              "\n",
              "        const docLinkHtml = 'Like what you see? Visit the ' +\n",
              "          '<a target=\"_blank\" href=https://colab.research.google.com/notebooks/data_table.ipynb>data table notebook</a>'\n",
              "          + ' to learn more about interactive tables.';\n",
              "        element.innerHTML = '';\n",
              "        dataTable['output_type'] = 'display_data';\n",
              "        await google.colab.output.renderOutput(dataTable, element);\n",
              "        const docLink = document.createElement('div');\n",
              "        docLink.innerHTML = docLinkHtml;\n",
              "        element.appendChild(docLink);\n",
              "      }\n",
              "    </script>\n",
              "  </div>\n",
              "\n",
              "\n",
              "<div id=\"df-155d3afc-2eeb-4b92-a9ab-398d824f8d65\">\n",
              "  <button class=\"colab-df-quickchart\" onclick=\"quickchart('df-155d3afc-2eeb-4b92-a9ab-398d824f8d65')\"\n",
              "            title=\"Suggest charts\"\n",
              "            style=\"display:none;\">\n",
              "\n",
              "<svg xmlns=\"http://www.w3.org/2000/svg\" height=\"24px\"viewBox=\"0 0 24 24\"\n",
              "     width=\"24px\">\n",
              "    <g>\n",
              "        <path d=\"M19 3H5c-1.1 0-2 .9-2 2v14c0 1.1.9 2 2 2h14c1.1 0 2-.9 2-2V5c0-1.1-.9-2-2-2zM9 17H7v-7h2v7zm4 0h-2V7h2v10zm4 0h-2v-4h2v4z\"/>\n",
              "    </g>\n",
              "</svg>\n",
              "  </button>\n",
              "\n",
              "<style>\n",
              "  .colab-df-quickchart {\n",
              "      --bg-color: #E8F0FE;\n",
              "      --fill-color: #1967D2;\n",
              "      --hover-bg-color: #E2EBFA;\n",
              "      --hover-fill-color: #174EA6;\n",
              "      --disabled-fill-color: #AAA;\n",
              "      --disabled-bg-color: #DDD;\n",
              "  }\n",
              "\n",
              "  [theme=dark] .colab-df-quickchart {\n",
              "      --bg-color: #3B4455;\n",
              "      --fill-color: #D2E3FC;\n",
              "      --hover-bg-color: #434B5C;\n",
              "      --hover-fill-color: #FFFFFF;\n",
              "      --disabled-bg-color: #3B4455;\n",
              "      --disabled-fill-color: #666;\n",
              "  }\n",
              "\n",
              "  .colab-df-quickchart {\n",
              "    background-color: var(--bg-color);\n",
              "    border: none;\n",
              "    border-radius: 50%;\n",
              "    cursor: pointer;\n",
              "    display: none;\n",
              "    fill: var(--fill-color);\n",
              "    height: 32px;\n",
              "    padding: 0;\n",
              "    width: 32px;\n",
              "  }\n",
              "\n",
              "  .colab-df-quickchart:hover {\n",
              "    background-color: var(--hover-bg-color);\n",
              "    box-shadow: 0 1px 2px rgba(60, 64, 67, 0.3), 0 1px 3px 1px rgba(60, 64, 67, 0.15);\n",
              "    fill: var(--button-hover-fill-color);\n",
              "  }\n",
              "\n",
              "  .colab-df-quickchart-complete:disabled,\n",
              "  .colab-df-quickchart-complete:disabled:hover {\n",
              "    background-color: var(--disabled-bg-color);\n",
              "    fill: var(--disabled-fill-color);\n",
              "    box-shadow: none;\n",
              "  }\n",
              "\n",
              "  .colab-df-spinner {\n",
              "    border: 2px solid var(--fill-color);\n",
              "    border-color: transparent;\n",
              "    border-bottom-color: var(--fill-color);\n",
              "    animation:\n",
              "      spin 1s steps(1) infinite;\n",
              "  }\n",
              "\n",
              "  @keyframes spin {\n",
              "    0% {\n",
              "      border-color: transparent;\n",
              "      border-bottom-color: var(--fill-color);\n",
              "      border-left-color: var(--fill-color);\n",
              "    }\n",
              "    20% {\n",
              "      border-color: transparent;\n",
              "      border-left-color: var(--fill-color);\n",
              "      border-top-color: var(--fill-color);\n",
              "    }\n",
              "    30% {\n",
              "      border-color: transparent;\n",
              "      border-left-color: var(--fill-color);\n",
              "      border-top-color: var(--fill-color);\n",
              "      border-right-color: var(--fill-color);\n",
              "    }\n",
              "    40% {\n",
              "      border-color: transparent;\n",
              "      border-right-color: var(--fill-color);\n",
              "      border-top-color: var(--fill-color);\n",
              "    }\n",
              "    60% {\n",
              "      border-color: transparent;\n",
              "      border-right-color: var(--fill-color);\n",
              "    }\n",
              "    80% {\n",
              "      border-color: transparent;\n",
              "      border-right-color: var(--fill-color);\n",
              "      border-bottom-color: var(--fill-color);\n",
              "    }\n",
              "    90% {\n",
              "      border-color: transparent;\n",
              "      border-bottom-color: var(--fill-color);\n",
              "    }\n",
              "  }\n",
              "</style>\n",
              "\n",
              "  <script>\n",
              "    async function quickchart(key) {\n",
              "      const quickchartButtonEl =\n",
              "        document.querySelector('#' + key + ' button');\n",
              "      quickchartButtonEl.disabled = true;  // To prevent multiple clicks.\n",
              "      quickchartButtonEl.classList.add('colab-df-spinner');\n",
              "      try {\n",
              "        const charts = await google.colab.kernel.invokeFunction(\n",
              "            'suggestCharts', [key], {});\n",
              "      } catch (error) {\n",
              "        console.error('Error during call to suggestCharts:', error);\n",
              "      }\n",
              "      quickchartButtonEl.classList.remove('colab-df-spinner');\n",
              "      quickchartButtonEl.classList.add('colab-df-quickchart-complete');\n",
              "    }\n",
              "    (() => {\n",
              "      let quickchartButtonEl =\n",
              "        document.querySelector('#df-155d3afc-2eeb-4b92-a9ab-398d824f8d65 button');\n",
              "      quickchartButtonEl.style.display =\n",
              "        google.colab.kernel.accessAllowed ? 'block' : 'none';\n",
              "    })();\n",
              "  </script>\n",
              "</div>\n",
              "    </div>\n",
              "  </div>\n"
            ],
            "application/vnd.google.colaboratory.intrinsic+json": {
              "type": "dataframe",
              "variable_name": "data",
              "summary": "{\n  \"name\": \"data\",\n  \"rows\": 6574,\n  \"fields\": [\n    {\n      \"column\": \"Yr_Mo_Dy\",\n      \"properties\": {\n        \"dtype\": \"date\",\n        \"min\": \"1961-01-01 00:00:00\",\n        \"max\": \"2078-12-31 00:00:00\",\n        \"num_unique_values\": 6574,\n        \"samples\": [\n          \"1962-09-04 00:00:00\",\n          \"2073-02-28 00:00:00\",\n          \"1964-11-20 00:00:00\"\n        ],\n        \"semantic_type\": \"\",\n        \"description\": \"\"\n      }\n    },\n    {\n      \"column\": \"RPT\",\n      \"properties\": {\n        \"dtype\": \"number\",\n        \"std\": 5.618412959473285,\n        \"min\": 0.67,\n        \"max\": 35.8,\n        \"num_unique_values\": 671,\n        \"samples\": [\n          1.5,\n          4.25,\n          18.29\n        ],\n        \"semantic_type\": \"\",\n        \"description\": \"\"\n      }\n    },\n    {\n      \"column\": \"VAL\",\n      \"properties\": {\n        \"dtype\": \"number\",\n        \"std\": 5.2673564715943675,\n        \"min\": 0.21,\n        \"max\": 33.37,\n        \"num_unique_values\": 607,\n        \"samples\": [\n          1.87,\n          12.62,\n          7.46\n        ],\n        \"semantic_type\": \"\",\n        \"description\": \"\"\n      }\n    },\n    {\n      \"column\": \"ROS\",\n      \"properties\": {\n        \"dtype\": \"number\",\n        \"std\": 5.00844995886674,\n        \"min\": 1.5,\n        \"max\": 33.84,\n        \"num_unique_values\": 611,\n        \"samples\": [\n          13.08,\n          19.92,\n          9.29\n        ],\n        \"semantic_type\": \"\",\n        \"description\": \"\"\n      }\n    },\n    {\n      \"column\": \"KIL\",\n      \"properties\": {\n        \"dtype\": \"number\",\n        \"std\": 3.6058112071455097,\n        \"min\": 0.0,\n        \"max\": 28.46,\n        \"num_unique_values\": 450,\n        \"samples\": [\n          13.67,\n          16.79,\n          5.66\n        ],\n        \"semantic_type\": \"\",\n        \"description\": \"\"\n      }\n    },\n    {\n      \"column\": \"SHA\",\n      \"properties\": {\n        \"dtype\": \"number\",\n        \"std\": 4.936125157203556,\n        \"min\": 0.13,\n        \"max\": 37.54,\n        \"num_unique_values\": 596,\n        \"samples\": [\n          15.21,\n          20.46,\n          37.54\n        ],\n        \"semantic_type\": \"\",\n        \"description\": \"\"\n      }\n    },\n    {\n      \"column\": \"BIR\",\n      \"properties\": {\n        \"dtype\": \"number\",\n        \"std\": 3.9686831153772095,\n        \"min\": 0.0,\n        \"max\": 26.16,\n        \"num_unique_values\": 461,\n        \"samples\": [\n          17.0,\n          7.17,\n          13.29\n        ],\n        \"semantic_type\": \"\",\n        \"description\": \"\"\n      }\n    },\n    {\n      \"column\": \"DUB\",\n      \"properties\": {\n        \"dtype\": \"number\",\n        \"std\": 4.977554606833067,\n        \"min\": 0.0,\n        \"max\": 30.37,\n        \"num_unique_values\": 580,\n        \"samples\": [\n          25.54,\n          18.0,\n          9.13\n        ],\n        \"semantic_type\": \"\",\n        \"description\": \"\"\n      }\n    },\n    {\n      \"column\": \"CLA\",\n      \"properties\": {\n        \"dtype\": \"number\",\n        \"std\": 4.499449045244691,\n        \"min\": 0.0,\n        \"max\": 31.08,\n        \"num_unique_values\": 534,\n        \"samples\": [\n          11.46,\n          8.63,\n          8.17\n        ],\n        \"semantic_type\": \"\",\n        \"description\": \"\"\n      }\n    },\n    {\n      \"column\": \"MUL\",\n      \"properties\": {\n        \"dtype\": \"number\",\n        \"std\": 4.166872499235682,\n        \"min\": 0.0,\n        \"max\": 25.88,\n        \"num_unique_values\": 503,\n        \"samples\": [\n          5.91,\n          9.54,\n          5.54\n        ],\n        \"semantic_type\": \"\",\n        \"description\": \"\"\n      }\n    },\n    {\n      \"column\": \"CLO\",\n      \"properties\": {\n        \"dtype\": \"number\",\n        \"std\": 4.5039544468791535,\n        \"min\": 0.04,\n        \"max\": 28.21,\n        \"num_unique_values\": 533,\n        \"samples\": [\n          7.96,\n          1.67,\n          4.71\n        ],\n        \"semantic_type\": \"\",\n        \"description\": \"\"\n      }\n    },\n    {\n      \"column\": \"BEL\",\n      \"properties\": {\n        \"dtype\": \"number\",\n        \"std\": 5.835037000573735,\n        \"min\": 0.13,\n        \"max\": 42.38,\n        \"num_unique_values\": 687,\n        \"samples\": [\n          14.17,\n          26.04,\n          0.58\n        ],\n        \"semantic_type\": \"\",\n        \"description\": \"\"\n      }\n    },\n    {\n      \"column\": \"MAL\",\n      \"properties\": {\n        \"dtype\": \"number\",\n        \"std\": 6.699793517366434,\n        \"min\": 0.67,\n        \"max\": 42.54,\n        \"num_unique_values\": 779,\n        \"samples\": [\n          25.96,\n          28.84,\n          30.46\n        ],\n        \"semantic_type\": \"\",\n        \"description\": \"\"\n      }\n    }\n  ]\n}"
            }
          },
          "metadata": {},
          "execution_count": 36
        }
      ],
      "source": [
        "data.set_index('Yr_Mo_Dy')\n",
        "data.head()"
      ]
    },
    {
      "cell_type": "markdown",
      "metadata": {
        "id": "dbOcHiG74dkB"
      },
      "source": [
        "### Step 6. Compute how many values are missing for each location over the entire record.  \n",
        "#### They should be ignored in all calculations below."
      ]
    },
    {
      "cell_type": "code",
      "execution_count": 37,
      "metadata": {
        "id": "ch63TLgt4dkD",
        "outputId": "6ef3ab22-035d-4de9-a42c-09cb8c98da90",
        "colab": {
          "base_uri": "https://localhost:8080/"
        }
      },
      "outputs": [
        {
          "output_type": "execute_result",
          "data": {
            "text/plain": [
              "Yr_Mo_Dy    0\n",
              "RPT         6\n",
              "VAL         3\n",
              "ROS         2\n",
              "KIL         5\n",
              "SHA         2\n",
              "BIR         0\n",
              "DUB         3\n",
              "CLA         2\n",
              "MUL         3\n",
              "CLO         1\n",
              "BEL         0\n",
              "MAL         4\n",
              "dtype: int64"
            ]
          },
          "metadata": {},
          "execution_count": 37
        }
      ],
      "source": [
        "data.isnull().sum()"
      ]
    },
    {
      "cell_type": "markdown",
      "metadata": {
        "id": "zN1sZvbL4dkF"
      },
      "source": [
        "### Step 7. Compute how many non-missing values there are in total."
      ]
    },
    {
      "cell_type": "code",
      "execution_count": 38,
      "metadata": {
        "scrolled": true,
        "id": "6Njd2HX_4dkI",
        "outputId": "ba27bc6e-f479-499b-b7fd-4770c49db009",
        "colab": {
          "base_uri": "https://localhost:8080/"
        }
      },
      "outputs": [
        {
          "output_type": "execute_result",
          "data": {
            "text/plain": [
              "Yr_Mo_Dy    6574\n",
              "RPT         6568\n",
              "VAL         6571\n",
              "ROS         6572\n",
              "KIL         6569\n",
              "SHA         6572\n",
              "BIR         6574\n",
              "DUB         6571\n",
              "CLA         6572\n",
              "MUL         6571\n",
              "CLO         6573\n",
              "BEL         6574\n",
              "MAL         6570\n",
              "dtype: int64"
            ]
          },
          "metadata": {},
          "execution_count": 38
        }
      ],
      "source": [
        "data.notnull().sum()"
      ]
    },
    {
      "cell_type": "markdown",
      "metadata": {
        "id": "-b--y0-d4dkJ"
      },
      "source": [
        "### Step 8. Calculate the mean windspeeds of the windspeeds over all the locations and all the times.\n",
        "#### A single number for the entire dataset."
      ]
    },
    {
      "cell_type": "code",
      "execution_count": 39,
      "metadata": {
        "id": "bKwM2WeJ4dkT",
        "outputId": "0e706792-92e1-4535-98f8-51b83ef82d49",
        "colab": {
          "base_uri": "https://localhost:8080/",
          "height": 304
        }
      },
      "outputs": [
        {
          "output_type": "error",
          "ename": "TypeError",
          "evalue": "unsupported operand type(s) for +: 'Timestamp' and 'float'",
          "traceback": [
            "\u001b[0;31m---------------------------------------------------------------------------\u001b[0m",
            "\u001b[0;31mTypeError\u001b[0m                                 Traceback (most recent call last)",
            "\u001b[0;32m<ipython-input-39-6f303c62dc83>\u001b[0m in \u001b[0;36m<cell line: 1>\u001b[0;34m()\u001b[0m\n\u001b[0;32m----> 1\u001b[0;31m \u001b[0mmean_value\u001b[0m \u001b[0;34m=\u001b[0m \u001b[0mnp\u001b[0m\u001b[0;34m.\u001b[0m\u001b[0mmean\u001b[0m\u001b[0;34m(\u001b[0m\u001b[0mdata\u001b[0m\u001b[0;34m.\u001b[0m\u001b[0miloc\u001b[0m\u001b[0;34m[\u001b[0m\u001b[0;34m:\u001b[0m\u001b[0;34m,\u001b[0m\u001b[0;36m0\u001b[0m\u001b[0;34m:\u001b[0m\u001b[0;34m]\u001b[0m\u001b[0;34m.\u001b[0m\u001b[0mvalues\u001b[0m\u001b[0;34m.\u001b[0m\u001b[0mravel\u001b[0m\u001b[0;34m(\u001b[0m\u001b[0;34m)\u001b[0m\u001b[0;34m)\u001b[0m\u001b[0;34m\u001b[0m\u001b[0;34m\u001b[0m\u001b[0m\n\u001b[0m\u001b[1;32m      2\u001b[0m \u001b[0mmean_value\u001b[0m\u001b[0;34m\u001b[0m\u001b[0;34m\u001b[0m\u001b[0m\n",
            "\u001b[0;32m/usr/local/lib/python3.10/dist-packages/numpy/core/fromnumeric.py\u001b[0m in \u001b[0;36mmean\u001b[0;34m(a, axis, dtype, out, keepdims, where)\u001b[0m\n\u001b[1;32m   3502\u001b[0m             \u001b[0;32mreturn\u001b[0m \u001b[0mmean\u001b[0m\u001b[0;34m(\u001b[0m\u001b[0maxis\u001b[0m\u001b[0;34m=\u001b[0m\u001b[0maxis\u001b[0m\u001b[0;34m,\u001b[0m \u001b[0mdtype\u001b[0m\u001b[0;34m=\u001b[0m\u001b[0mdtype\u001b[0m\u001b[0;34m,\u001b[0m \u001b[0mout\u001b[0m\u001b[0;34m=\u001b[0m\u001b[0mout\u001b[0m\u001b[0;34m,\u001b[0m \u001b[0;34m**\u001b[0m\u001b[0mkwargs\u001b[0m\u001b[0;34m)\u001b[0m\u001b[0;34m\u001b[0m\u001b[0;34m\u001b[0m\u001b[0m\n\u001b[1;32m   3503\u001b[0m \u001b[0;34m\u001b[0m\u001b[0m\n\u001b[0;32m-> 3504\u001b[0;31m     return _methods._mean(a, axis=axis, dtype=dtype,\n\u001b[0m\u001b[1;32m   3505\u001b[0m                           out=out, **kwargs)\n\u001b[1;32m   3506\u001b[0m \u001b[0;34m\u001b[0m\u001b[0m\n",
            "\u001b[0;32m/usr/local/lib/python3.10/dist-packages/numpy/core/_methods.py\u001b[0m in \u001b[0;36m_mean\u001b[0;34m(a, axis, dtype, out, keepdims, where)\u001b[0m\n\u001b[1;32m    116\u001b[0m             \u001b[0mis_float16_result\u001b[0m \u001b[0;34m=\u001b[0m \u001b[0;32mTrue\u001b[0m\u001b[0;34m\u001b[0m\u001b[0;34m\u001b[0m\u001b[0m\n\u001b[1;32m    117\u001b[0m \u001b[0;34m\u001b[0m\u001b[0m\n\u001b[0;32m--> 118\u001b[0;31m     \u001b[0mret\u001b[0m \u001b[0;34m=\u001b[0m \u001b[0mumr_sum\u001b[0m\u001b[0;34m(\u001b[0m\u001b[0marr\u001b[0m\u001b[0;34m,\u001b[0m \u001b[0maxis\u001b[0m\u001b[0;34m,\u001b[0m \u001b[0mdtype\u001b[0m\u001b[0;34m,\u001b[0m \u001b[0mout\u001b[0m\u001b[0;34m,\u001b[0m \u001b[0mkeepdims\u001b[0m\u001b[0;34m,\u001b[0m \u001b[0mwhere\u001b[0m\u001b[0;34m=\u001b[0m\u001b[0mwhere\u001b[0m\u001b[0;34m)\u001b[0m\u001b[0;34m\u001b[0m\u001b[0;34m\u001b[0m\u001b[0m\n\u001b[0m\u001b[1;32m    119\u001b[0m     \u001b[0;32mif\u001b[0m \u001b[0misinstance\u001b[0m\u001b[0;34m(\u001b[0m\u001b[0mret\u001b[0m\u001b[0;34m,\u001b[0m \u001b[0mmu\u001b[0m\u001b[0;34m.\u001b[0m\u001b[0mndarray\u001b[0m\u001b[0;34m)\u001b[0m\u001b[0;34m:\u001b[0m\u001b[0;34m\u001b[0m\u001b[0;34m\u001b[0m\u001b[0m\n\u001b[1;32m    120\u001b[0m         \u001b[0;32mwith\u001b[0m \u001b[0m_no_nep50_warning\u001b[0m\u001b[0;34m(\u001b[0m\u001b[0;34m)\u001b[0m\u001b[0;34m:\u001b[0m\u001b[0;34m\u001b[0m\u001b[0;34m\u001b[0m\u001b[0m\n",
            "\u001b[0;31mTypeError\u001b[0m: unsupported operand type(s) for +: 'Timestamp' and 'float'"
          ]
        }
      ],
      "source": [
        "mean_value = np.mean(data.iloc[:,0:].values.ravel())\n",
        "mean_value"
      ]
    },
    {
      "cell_type": "markdown",
      "metadata": {
        "id": "cYJ9Ui904dkV"
      },
      "source": [
        "### Step 9. Create a DataFrame called loc_stats and calculate the min, max and mean windspeeds and standard deviations of the windspeeds at each location over all the days\n",
        "\n",
        "#### A different set of numbers for each location."
      ]
    },
    {
      "cell_type": "code",
      "execution_count": null,
      "metadata": {
        "id": "wAysNv2c4dka"
      },
      "outputs": [],
      "source": []
    },
    {
      "cell_type": "markdown",
      "metadata": {
        "id": "kn689DNY4dkc"
      },
      "source": [
        "### Step 10. Create a DataFrame called day_stats and calculate the min, max and mean windspeed and standard deviations of the windspeeds across all the locations at each day.\n",
        "\n",
        "#### A different set of numbers for each day."
      ]
    },
    {
      "cell_type": "code",
      "execution_count": null,
      "metadata": {
        "id": "V9-vD3At4dkg"
      },
      "outputs": [],
      "source": []
    },
    {
      "cell_type": "markdown",
      "metadata": {
        "id": "3IDxetuc4dki"
      },
      "source": [
        "### Step 11. Find the average windspeed in January for each location.  \n",
        "#### Treat January 1961 and January 1962 both as January."
      ]
    },
    {
      "cell_type": "code",
      "execution_count": null,
      "metadata": {
        "id": "XWQpKlsq4dkj"
      },
      "outputs": [],
      "source": []
    },
    {
      "cell_type": "markdown",
      "metadata": {
        "id": "oI_iDA274dkr"
      },
      "source": [
        "### Step 12. Downsample the record to a yearly frequency for each location."
      ]
    },
    {
      "cell_type": "code",
      "execution_count": null,
      "metadata": {
        "id": "Bk79aUHD4dks"
      },
      "outputs": [],
      "source": []
    },
    {
      "cell_type": "markdown",
      "metadata": {
        "id": "6-7bVxaB4dkv"
      },
      "source": [
        "### Step 13. Downsample the record to a monthly frequency for each location."
      ]
    },
    {
      "cell_type": "code",
      "execution_count": null,
      "metadata": {
        "id": "zai_sZga4dk1"
      },
      "outputs": [],
      "source": []
    },
    {
      "cell_type": "markdown",
      "metadata": {
        "id": "u_32cbAP4dk4"
      },
      "source": [
        "### Step 14. Downsample the record to a weekly frequency for each location."
      ]
    },
    {
      "cell_type": "code",
      "execution_count": null,
      "metadata": {
        "id": "dDxSollQ4dk5"
      },
      "outputs": [],
      "source": []
    },
    {
      "cell_type": "markdown",
      "metadata": {
        "id": "RN_Up6di4dlA"
      },
      "source": [
        "### Step 15. Calculate the min, max and mean windspeeds and standard deviations of the windspeeds across all locations for each week (assume that the first week starts on January 2 1961) for the first 52 weeks."
      ]
    },
    {
      "cell_type": "code",
      "execution_count": null,
      "metadata": {
        "id": "EQTajreU4dlF"
      },
      "outputs": [],
      "source": []
    }
  ],
  "metadata": {
    "anaconda-cloud": {},
    "kernelspec": {
      "display_name": "Python [default]",
      "language": "python",
      "name": "python2"
    },
    "language_info": {
      "codemirror_mode": {
        "name": "ipython",
        "version": 2
      },
      "file_extension": ".py",
      "mimetype": "text/x-python",
      "name": "python",
      "nbconvert_exporter": "python",
      "pygments_lexer": "ipython2",
      "version": "2.7.12"
    },
    "colab": {
      "provenance": []
    }
  },
  "nbformat": 4,
  "nbformat_minor": 0
}