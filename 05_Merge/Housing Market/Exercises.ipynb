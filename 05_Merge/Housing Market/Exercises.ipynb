{
  "cells": [
    {
      "cell_type": "markdown",
      "metadata": {
        "id": "HPMhx4KlcI2n"
      },
      "source": [
        "# Housing Market"
      ]
    },
    {
      "cell_type": "markdown",
      "metadata": {
        "id": "Oak_O1ppcI29"
      },
      "source": [
        "### Introduction:\n",
        "\n",
        "This time we will create our own dataset with fictional numbers to describe a house market. As we are going to create random data don't try to reason of the numbers.\n",
        "\n",
        "### Step 1. Import the necessary libraries"
      ]
    },
    {
      "cell_type": "code",
      "execution_count": 40,
      "metadata": {
        "id": "15SXtkPdcI3A"
      },
      "outputs": [],
      "source": [
        "import pandas as pd\n",
        "import numpy as np"
      ]
    },
    {
      "cell_type": "markdown",
      "metadata": {
        "id": "kVmaBvkbcI3B"
      },
      "source": [
        "### Step 2. Create 3 differents Series, each of length 100, as follows:\n",
        "1. The first a random number from 1 to 4\n",
        "2. The second a random number from 1 to 3\n",
        "3. The third a random number from 10,000 to 30,000"
      ]
    },
    {
      "cell_type": "code",
      "execution_count": 41,
      "metadata": {
        "id": "TaE7xjJDcI3B"
      },
      "outputs": [],
      "source": [
        "a = pd.Series(np.random.randint(1,5,size=(100,)))"
      ]
    },
    {
      "cell_type": "code",
      "execution_count": 42,
      "metadata": {
        "id": "C7b4uBJYeDhr"
      },
      "outputs": [],
      "source": [
        "b = pd.Series(np.random.randint(1,4,size=(100,)))"
      ]
    },
    {
      "cell_type": "code",
      "source": [
        "c = pd.Series(np.random.randint(10000,30001,size=(100,)))"
      ],
      "metadata": {
        "id": "hVSLLrwTeOxu"
      },
      "execution_count": 43,
      "outputs": []
    },
    {
      "cell_type": "markdown",
      "metadata": {
        "id": "5O3YyBytcI3B"
      },
      "source": [
        "### Step 3. Let's create a DataFrame by joinning the Series by column"
      ]
    },
    {
      "cell_type": "code",
      "execution_count": 44,
      "metadata": {
        "id": "7mPDHx_NcI3C"
      },
      "outputs": [],
      "source": [
        "df = pd.concat([a,b,c],axis=1)"
      ]
    },
    {
      "cell_type": "markdown",
      "metadata": {
        "id": "tcWO_qwGcI3D"
      },
      "source": [
        "### Step 4. Change the name of the columns to bedrs, bathrs, price_sqr_meter"
      ]
    },
    {
      "cell_type": "code",
      "execution_count": 45,
      "metadata": {
        "id": "8uVqn45NcI3E",
        "outputId": "74d3f7c1-5cf9-4b22-e137-698c972fca7a",
        "colab": {
          "base_uri": "https://localhost:8080/"
        }
      },
      "outputs": [
        {
          "output_type": "execute_result",
          "data": {
            "text/plain": [
              "Index(['bedrs', 'bathrs', 'price_sqr_meter'], dtype='object')"
            ]
          },
          "metadata": {},
          "execution_count": 45
        }
      ],
      "source": [
        "df.columns = ['bedrs','bathrs','price_sqr_meter']\n",
        "df.columns"
      ]
    },
    {
      "cell_type": "markdown",
      "metadata": {
        "id": "fYO6u4LscI3J"
      },
      "source": [
        "### Step 5. Create a one column DataFrame with the values of the 3 Series and assign it to 'bigcolumn'"
      ]
    },
    {
      "cell_type": "code",
      "execution_count": 46,
      "metadata": {
        "id": "KUkIOFsqcI3L",
        "outputId": "2c612f7f-c82f-4666-c083-c08a6315e39b",
        "colab": {
          "base_uri": "https://localhost:8080/"
        }
      },
      "outputs": [
        {
          "output_type": "execute_result",
          "data": {
            "text/plain": [
              "0          2\n",
              "1          1\n",
              "2          1\n",
              "3          4\n",
              "4          1\n",
              "       ...  \n",
              "295    21609\n",
              "296    27609\n",
              "297    18565\n",
              "298    29459\n",
              "299    10835\n",
              "Length: 300, dtype: int64"
            ]
          },
          "metadata": {},
          "execution_count": 46
        }
      ],
      "source": [
        "df2 = pd.concat([a,b,c])\n",
        "df2.columns = ['bigcolumn']\n",
        "df2.reset_index(drop=True)"
      ]
    },
    {
      "cell_type": "markdown",
      "metadata": {
        "id": "xhJvGIdbcI3N"
      },
      "source": [
        "### Step 6. Oops, it seems it is going only until index 99. Is it true?"
      ]
    },
    {
      "cell_type": "code",
      "execution_count": 47,
      "metadata": {
        "id": "rpYda1Q5cI3P",
        "outputId": "e583aabe-4da2-4993-a55b-c1bfd6bee76a",
        "colab": {
          "base_uri": "https://localhost:8080/"
        }
      },
      "outputs": [
        {
          "output_type": "execute_result",
          "data": {
            "text/plain": [
              "0          2\n",
              "1          1\n",
              "2          1\n",
              "3          4\n",
              "4          1\n",
              "       ...  \n",
              "295    21609\n",
              "296    27609\n",
              "297    18565\n",
              "298    29459\n",
              "299    10835\n",
              "Length: 300, dtype: int64"
            ]
          },
          "metadata": {},
          "execution_count": 47
        }
      ],
      "source": [
        "df2.reset_index(drop=True)"
      ]
    },
    {
      "cell_type": "markdown",
      "metadata": {
        "id": "7diPHOb-cI3Q"
      },
      "source": [
        "### Step 7. Reindex the DataFrame so it goes from 0 to 299"
      ]
    },
    {
      "cell_type": "code",
      "execution_count": 47,
      "metadata": {
        "id": "gDwmy0XwcI3Q"
      },
      "outputs": [],
      "source": []
    }
  ],
  "metadata": {
    "kernelspec": {
      "display_name": "Python 2",
      "language": "python",
      "name": "python2"
    },
    "language_info": {
      "codemirror_mode": {
        "name": "ipython",
        "version": 2
      },
      "file_extension": ".py",
      "mimetype": "text/x-python",
      "name": "python",
      "nbconvert_exporter": "python",
      "pygments_lexer": "ipython2",
      "version": "2.7.11"
    },
    "colab": {
      "provenance": []
    }
  },
  "nbformat": 4,
  "nbformat_minor": 0
}